{
  "nbformat": 4,
  "nbformat_minor": 0,
  "metadata": {
    "colab": {
      "provenance": [],
      "authorship_tag": "ABX9TyN7ylhUKTw5kOUCc/ULc1t7",
      "include_colab_link": true
    },
    "kernelspec": {
      "name": "python3",
      "display_name": "Python 3"
    },
    "language_info": {
      "name": "python"
    }
  },
  "cells": [
    {
      "cell_type": "markdown",
      "metadata": {
        "id": "view-in-github",
        "colab_type": "text"
      },
      "source": [
        "<a href=\"https://colab.research.google.com/github/GowriShankar-058/phase-05/blob/main/Phase_5.ipynb\" target=\"_parent\"><img src=\"https://colab.research.google.com/assets/colab-badge.svg\" alt=\"Open In Colab\"/></a>"
      ]
    },
    {
      "cell_type": "code",
      "execution_count": 1,
      "metadata": {
        "colab": {
          "base_uri": "https://localhost:8080/"
        },
        "id": "z_wnRS9KbOVA",
        "outputId": "c01c392b-2e9c-41b3-c4a0-4fd82290df18"
      },
      "outputs": [
        {
          "output_type": "stream",
          "name": "stdout",
          "text": [
            "Starting AI-EBPL Structural Health Monitoring System...\n",
            "\n",
            "Sensor Data: {'strain': 0.8866539800637222, 'vibration': 7.208270093370911, 'temperature': 19.13422665200536}\n",
            "System Status: All Normal\n",
            "\n",
            "Sensor Data: {'strain': 1.3373391944412674, 'vibration': 2.2304092162214366, 'temperature': 18.549967660506816}\n",
            "System Status: All Normal\n",
            "\n",
            "Sensor Data: {'strain': 4.044974219708249, 'vibration': 2.0392041714010114, 'temperature': 24.151981928140252}\n",
            "System Status: All Normal\n",
            "\n",
            "Sensor Data: {'strain': 4.519731496024865, 'vibration': 3.457438321496423, 'temperature': 19.685225449198064}\n",
            "System Status: All Normal\n",
            "\n",
            "Sensor Data: {'strain': 3.996802246025933, 'vibration': 5.28350613877719, 'temperature': 29.14407682571001}\n",
            "System Status: All Normal\n",
            "\n",
            "Sensor Data: {'strain': 3.898877776330251, 'vibration': 1.4066047696647461, 'temperature': 20.48299096307391}\n",
            "System Status: All Normal\n",
            "\n",
            "Sensor Data: {'strain': 1.1953270942438134, 'vibration': 4.515798238721246, 'temperature': 36.55448967321412}\n",
            "System Status: All Normal\n",
            "\n",
            "Sensor Data: {'strain': 3.663330727945222, 'vibration': 5.4460650965375565, 'temperature': 24.300340486403385}\n",
            "System Status: All Normal\n",
            "\n",
            "Sensor Data: {'strain': 1.217181885899226, 'vibration': 1.271583595958689, 'temperature': 26.282137083389316}\n",
            "System Status: All Normal\n",
            "\n",
            "Sensor Data: {'strain': 3.7448624115719684, 'vibration': 3.044088517403218, 'temperature': 44.00956402140149}\n",
            "System Status: All Normal\n",
            "\n",
            "Sensor Data: {'strain': 3.4605103337115004, 'vibration': 3.296075533464051, 'temperature': 41.21845218123367}\n",
            "System Status: All Normal\n",
            "\n",
            "Sensor Data: {'strain': 3.939751460449681, 'vibration': 4.9802278580498625, 'temperature': 32.00901288084595}\n",
            "System Status: All Normal\n",
            "\n",
            "Sensor Data: {'strain': 4.776599470149427, 'vibration': 6.174070744693136, 'temperature': 26.231998206921144}\n",
            "System Status: All Normal\n",
            "\n",
            "Sensor Data: {'strain': 4.611104949816008, 'vibration': 2.990785337020473, 'temperature': 32.54887483549453}\n",
            "System Status: All Normal\n",
            "\n",
            "Sensor Data: {'strain': 1.080199314243434, 'vibration': 6.246657939960392, 'temperature': 29.11813801812366}\n",
            "System Status: All Normal\n",
            "\n"
          ]
        }
      ],
      "source": [
        "import random\n",
        "import time\n",
        "import logging\n",
        "\n",
        "# Configure logging\n",
        "logging.basicConfig(filename=\"shm_log.txt\", level=logging.INFO, format=\"%(asctime)s - %(message)s\")\n",
        "\n",
        "# Simulated sensor data generator\n",
        "def generate_sensor_data():\n",
        "    return {\n",
        "        'strain': random.uniform(0.1, 5.0),  # arbitrary unit\n",
        "        'vibration': random.uniform(0.1, 10.0),  # Hz\n",
        "        'temperature': random.uniform(15.0, 45.0)  # °C\n",
        "    }\n",
        "\n",
        "# Simulated AI model for anomaly detection\n",
        "def ai_model(sensor_data):\n",
        "    if sensor_data['strain'] > 4.0 or sensor_data['vibration'] > 8.0:\n",
        "        return \"Anomaly Detected\"\n",
        "    return \"Normal\"\n",
        "\n",
        "# EBPL rules for verifying AI output\n",
        "def ebpl_verification(sensor_data, ai_output):\n",
        "    # Rule-based validation: confirm anomaly only if multiple parameters exceed thresholds\n",
        "    if ai_output == \"Anomaly Detected\":\n",
        "        if sensor_data['strain'] > 4.0 and sensor_data['vibration'] > 8.0:\n",
        "            return True  # Confirmed anomaly\n",
        "        else:\n",
        "            return False  # False positive\n",
        "    return False\n",
        "\n",
        "# Visualization (console output for simplicity)\n",
        "def display_status(sensor_data, status):\n",
        "    print(f\"Sensor Data: {sensor_data}\")\n",
        "    print(f\"System Status: {status}\\n\")\n",
        "\n",
        "# Real-time monitoring simulation\n",
        "def monitor(duration_seconds=10, interval=1):\n",
        "    start_time = time.time()\n",
        "    while time.time() - start_time < duration_seconds:\n",
        "        data = generate_sensor_data()\n",
        "        ai_result = ai_model(data)\n",
        "        verified = ebpl_verification(data, ai_result)\n",
        "\n",
        "        status = \"ALERT: Anomaly Confirmed!\" if verified else \"All Normal\"\n",
        "        display_status(data, status)\n",
        "\n",
        "        # Log if there's an alert\n",
        "        if verified:\n",
        "            logging.info(f\"Anomaly confirmed with data: {data}\")\n",
        "        elif ai_result == \"Anomaly Detected\":\n",
        "            logging.info(f\"False positive detected by AI, EBPL blocked it. Data: {data}\")\n",
        "\n",
        "        time.sleep(interval)\n",
        "\n",
        "if __name__ == \"__main__\":\n",
        "    print(\"Starting AI-EBPL Structural Health Monitoring System...\\n\")\n",
        "    monitor(duration_seconds=30, interval=2)  # Monitor for 30 seconds"
      ]
    }
  ]
}